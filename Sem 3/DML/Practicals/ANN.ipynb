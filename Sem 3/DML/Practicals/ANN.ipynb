{
  "nbformat": 4,
  "nbformat_minor": 0,
  "metadata": {
    "colab": {
      "provenance": []
    },
    "kernelspec": {
      "name": "python3",
      "display_name": "Python 3"
    },
    "language_info": {
      "name": "python"
    }
  },
  "cells": [
    {
      "cell_type": "code",
      "execution_count": 1,
      "metadata": {
        "id": "YTFmqidZDdjS"
      },
      "outputs": [],
      "source": [
        "import pandas as pd\n",
        "import numpy as np\n",
        "import tensorflow as tf"
      ]
    },
    {
      "cell_type": "code",
      "source": [
        "ds = pd.read_csv(\"Churn_Modelling.csv\")\n",
        "x = ds.iloc[:, 3:-1].values\n",
        "y = ds.iloc[:, -1].values"
      ],
      "metadata": {
        "id": "r0HWrZqvDmIh"
      },
      "execution_count": 2,
      "outputs": []
    },
    {
      "cell_type": "code",
      "source": [
        "from sklearn.preprocessing import LabelEncoder\n",
        "le = LabelEncoder()\n",
        "x[:, 2] = le.fit_transform(x[:, 2])"
      ],
      "metadata": {
        "id": "jzDE7Ol4D5bM"
      },
      "execution_count": 3,
      "outputs": []
    },
    {
      "cell_type": "code",
      "source": [
        "from sklearn.preprocessing import OneHotEncoder\n",
        "from sklearn.compose import ColumnTransformer\n",
        "ct = ColumnTransformer(transformers = [('encode', OneHotEncoder(), [1])], remainder = 'passthrough')\n",
        "x = np.array(ct.fit_transform(x))"
      ],
      "metadata": {
        "id": "CFNraoaNELwi"
      },
      "execution_count": 6,
      "outputs": []
    },
    {
      "cell_type": "code",
      "source": [
        "from sklearn.model_selection import train_test_split\n",
        "x_train, x_test, y_train, y_test = train_test_split(x, y, test_size = 1/3, random_state = 0)"
      ],
      "metadata": {
        "id": "ANxswhQ6E9Kb"
      },
      "execution_count": 10,
      "outputs": []
    },
    {
      "cell_type": "code",
      "source": [
        "from sklearn.preprocessing import StandardScaler\n",
        "sc = StandardScaler()\n",
        "x_train = sc.fit_transform(x_train)\n",
        "x_test = sc.transform(x_test)"
      ],
      "metadata": {
        "id": "YJGrukbuFL9y"
      },
      "execution_count": 11,
      "outputs": []
    },
    {
      "cell_type": "code",
      "source": [
        "ann = tf.keras.models.Sequential()"
      ],
      "metadata": {
        "id": "AixLoRE_F0jx"
      },
      "execution_count": 12,
      "outputs": []
    },
    {
      "cell_type": "code",
      "source": [
        "ann.add(tf.keras.layers.Dense(units = 6, activation = 'relu'))"
      ],
      "metadata": {
        "id": "uluKAolyGCWo"
      },
      "execution_count": 13,
      "outputs": []
    },
    {
      "cell_type": "code",
      "source": [
        "ann.add(tf.keras.layers.Dense(units = 6, activation = 'relu'))"
      ],
      "metadata": {
        "id": "yEUvue3qGLu3"
      },
      "execution_count": 14,
      "outputs": []
    },
    {
      "cell_type": "code",
      "source": [
        "ann.add(tf.keras.layers.Dense(units = 1, activation = 'sigmoid'))"
      ],
      "metadata": {
        "id": "UItbb1O2GR1w"
      },
      "execution_count": 19,
      "outputs": []
    },
    {
      "cell_type": "code",
      "source": [
        "ann.compile(optimizer = 'adam', loss = 'binary_crossentropy', metrics = ['accuracy'])"
      ],
      "metadata": {
        "id": "Xz2WJC7mGXKW"
      },
      "execution_count": 20,
      "outputs": []
    },
    {
      "cell_type": "code",
      "source": [
        "ann.fit(x_train, y_train, batch_size = 32, epochs = 100)"
      ],
      "metadata": {
        "colab": {
          "base_uri": "https://localhost:8080/"
        },
        "id": "kMed8MmCGpmF",
        "outputId": "566094ec-863f-49b8-82bc-8148dfbf149e"
      },
      "execution_count": 21,
      "outputs": [
        {
          "output_type": "stream",
          "name": "stdout",
          "text": [
            "Epoch 1/100\n",
            "209/209 [==============================] - 1s 1ms/step - loss: 0.6223 - accuracy: 0.6620\n",
            "Epoch 2/100\n",
            "209/209 [==============================] - 0s 1ms/step - loss: 0.4944 - accuracy: 0.7976\n",
            "Epoch 3/100\n",
            "209/209 [==============================] - 0s 1ms/step - loss: 0.4731 - accuracy: 0.7976\n",
            "Epoch 4/100\n",
            "209/209 [==============================] - 0s 1ms/step - loss: 0.4593 - accuracy: 0.7976\n",
            "Epoch 5/100\n",
            "209/209 [==============================] - 0s 989us/step - loss: 0.4467 - accuracy: 0.7976\n",
            "Epoch 6/100\n",
            "209/209 [==============================] - 0s 987us/step - loss: 0.4373 - accuracy: 0.7976\n",
            "Epoch 7/100\n",
            "209/209 [==============================] - 0s 986us/step - loss: 0.4302 - accuracy: 0.8005\n",
            "Epoch 8/100\n",
            "209/209 [==============================] - 0s 964us/step - loss: 0.4251 - accuracy: 0.8224\n",
            "Epoch 9/100\n",
            "209/209 [==============================] - 0s 995us/step - loss: 0.4213 - accuracy: 0.8251\n",
            "Epoch 10/100\n",
            "209/209 [==============================] - 0s 940us/step - loss: 0.4185 - accuracy: 0.8278\n",
            "Epoch 11/100\n",
            "209/209 [==============================] - 0s 1ms/step - loss: 0.4163 - accuracy: 0.8296\n",
            "Epoch 12/100\n",
            "209/209 [==============================] - 0s 966us/step - loss: 0.4140 - accuracy: 0.8306\n",
            "Epoch 13/100\n",
            "209/209 [==============================] - 0s 1000us/step - loss: 0.4126 - accuracy: 0.8314\n",
            "Epoch 14/100\n",
            "209/209 [==============================] - 0s 941us/step - loss: 0.4108 - accuracy: 0.8320\n",
            "Epoch 15/100\n",
            "209/209 [==============================] - 0s 1ms/step - loss: 0.4092 - accuracy: 0.8335\n",
            "Epoch 16/100\n",
            "209/209 [==============================] - 0s 977us/step - loss: 0.4080 - accuracy: 0.8314\n",
            "Epoch 17/100\n",
            "209/209 [==============================] - 0s 999us/step - loss: 0.4068 - accuracy: 0.8327\n",
            "Epoch 18/100\n",
            "209/209 [==============================] - 0s 1ms/step - loss: 0.4062 - accuracy: 0.8329\n",
            "Epoch 19/100\n",
            "209/209 [==============================] - 0s 963us/step - loss: 0.4050 - accuracy: 0.8330\n",
            "Epoch 20/100\n",
            "209/209 [==============================] - 0s 979us/step - loss: 0.4042 - accuracy: 0.8327\n",
            "Epoch 21/100\n",
            "209/209 [==============================] - 0s 968us/step - loss: 0.4030 - accuracy: 0.8329\n",
            "Epoch 22/100\n",
            "209/209 [==============================] - 0s 960us/step - loss: 0.4020 - accuracy: 0.8320\n",
            "Epoch 23/100\n",
            "209/209 [==============================] - 0s 1ms/step - loss: 0.4012 - accuracy: 0.8323\n",
            "Epoch 24/100\n",
            "209/209 [==============================] - 0s 953us/step - loss: 0.4000 - accuracy: 0.8333\n",
            "Epoch 25/100\n",
            "209/209 [==============================] - 0s 976us/step - loss: 0.3989 - accuracy: 0.8344\n",
            "Epoch 26/100\n",
            "209/209 [==============================] - 0s 1ms/step - loss: 0.3971 - accuracy: 0.8354\n",
            "Epoch 27/100\n",
            "209/209 [==============================] - 0s 1ms/step - loss: 0.3941 - accuracy: 0.8374\n",
            "Epoch 28/100\n",
            "209/209 [==============================] - 0s 984us/step - loss: 0.3894 - accuracy: 0.8417\n",
            "Epoch 29/100\n",
            "209/209 [==============================] - 0s 984us/step - loss: 0.3833 - accuracy: 0.8452\n",
            "Epoch 30/100\n",
            "209/209 [==============================] - 0s 939us/step - loss: 0.3770 - accuracy: 0.8488\n",
            "Epoch 31/100\n",
            "209/209 [==============================] - 0s 966us/step - loss: 0.3710 - accuracy: 0.8530\n",
            "Epoch 32/100\n",
            "209/209 [==============================] - 0s 969us/step - loss: 0.3653 - accuracy: 0.8557\n",
            "Epoch 33/100\n",
            "209/209 [==============================] - 0s 961us/step - loss: 0.3607 - accuracy: 0.8590\n",
            "Epoch 34/100\n",
            "209/209 [==============================] - 0s 943us/step - loss: 0.3566 - accuracy: 0.8590\n",
            "Epoch 35/100\n",
            "209/209 [==============================] - 0s 950us/step - loss: 0.3538 - accuracy: 0.8617\n",
            "Epoch 36/100\n",
            "209/209 [==============================] - 0s 945us/step - loss: 0.3508 - accuracy: 0.8621\n",
            "Epoch 37/100\n",
            "209/209 [==============================] - 0s 983us/step - loss: 0.3489 - accuracy: 0.8626\n",
            "Epoch 38/100\n",
            "209/209 [==============================] - 0s 1ms/step - loss: 0.3469 - accuracy: 0.8629\n",
            "Epoch 39/100\n",
            "209/209 [==============================] - 0s 1ms/step - loss: 0.3455 - accuracy: 0.8639\n",
            "Epoch 40/100\n",
            "209/209 [==============================] - 0s 1ms/step - loss: 0.3445 - accuracy: 0.8650\n",
            "Epoch 41/100\n",
            "209/209 [==============================] - 0s 1ms/step - loss: 0.3435 - accuracy: 0.8641\n",
            "Epoch 42/100\n",
            "209/209 [==============================] - 0s 1ms/step - loss: 0.3432 - accuracy: 0.8638\n",
            "Epoch 43/100\n",
            "209/209 [==============================] - 0s 1000us/step - loss: 0.3426 - accuracy: 0.8648\n",
            "Epoch 44/100\n",
            "209/209 [==============================] - 0s 997us/step - loss: 0.3422 - accuracy: 0.8650\n",
            "Epoch 45/100\n",
            "209/209 [==============================] - 0s 1ms/step - loss: 0.3417 - accuracy: 0.8657\n",
            "Epoch 46/100\n",
            "209/209 [==============================] - 0s 1ms/step - loss: 0.3413 - accuracy: 0.8645\n",
            "Epoch 47/100\n",
            "209/209 [==============================] - 0s 962us/step - loss: 0.3408 - accuracy: 0.8641\n",
            "Epoch 48/100\n",
            "209/209 [==============================] - 0s 1ms/step - loss: 0.3403 - accuracy: 0.8648\n",
            "Epoch 49/100\n",
            "209/209 [==============================] - 0s 993us/step - loss: 0.3398 - accuracy: 0.8644\n",
            "Epoch 50/100\n",
            "209/209 [==============================] - 0s 957us/step - loss: 0.3394 - accuracy: 0.8657\n",
            "Epoch 51/100\n",
            "209/209 [==============================] - 0s 1ms/step - loss: 0.3394 - accuracy: 0.8632\n",
            "Epoch 52/100\n",
            "209/209 [==============================] - 0s 988us/step - loss: 0.3389 - accuracy: 0.8654\n",
            "Epoch 53/100\n",
            "209/209 [==============================] - 0s 1ms/step - loss: 0.3386 - accuracy: 0.8648\n",
            "Epoch 54/100\n",
            "209/209 [==============================] - 0s 1ms/step - loss: 0.3383 - accuracy: 0.8644\n",
            "Epoch 55/100\n",
            "209/209 [==============================] - 0s 1ms/step - loss: 0.3385 - accuracy: 0.8650\n",
            "Epoch 56/100\n",
            "209/209 [==============================] - 0s 1ms/step - loss: 0.3377 - accuracy: 0.8656\n",
            "Epoch 57/100\n",
            "209/209 [==============================] - 0s 1ms/step - loss: 0.3378 - accuracy: 0.8651\n",
            "Epoch 58/100\n",
            "209/209 [==============================] - 0s 967us/step - loss: 0.3373 - accuracy: 0.8644\n",
            "Epoch 59/100\n",
            "209/209 [==============================] - 0s 1ms/step - loss: 0.3370 - accuracy: 0.8659\n",
            "Epoch 60/100\n",
            "209/209 [==============================] - 0s 1ms/step - loss: 0.3370 - accuracy: 0.8650\n",
            "Epoch 61/100\n",
            "209/209 [==============================] - 0s 960us/step - loss: 0.3369 - accuracy: 0.8650\n",
            "Epoch 62/100\n",
            "209/209 [==============================] - 0s 989us/step - loss: 0.3361 - accuracy: 0.8648\n",
            "Epoch 63/100\n",
            "209/209 [==============================] - 0s 1ms/step - loss: 0.3360 - accuracy: 0.8660\n",
            "Epoch 64/100\n",
            "209/209 [==============================] - 0s 1ms/step - loss: 0.3362 - accuracy: 0.8641\n",
            "Epoch 65/100\n",
            "209/209 [==============================] - 0s 1ms/step - loss: 0.3360 - accuracy: 0.8642\n",
            "Epoch 66/100\n",
            "209/209 [==============================] - 0s 957us/step - loss: 0.3361 - accuracy: 0.8653\n",
            "Epoch 67/100\n",
            "209/209 [==============================] - 0s 1ms/step - loss: 0.3354 - accuracy: 0.8657\n",
            "Epoch 68/100\n",
            "209/209 [==============================] - 0s 1ms/step - loss: 0.3355 - accuracy: 0.8654\n",
            "Epoch 69/100\n",
            "209/209 [==============================] - 0s 1ms/step - loss: 0.3353 - accuracy: 0.8665\n",
            "Epoch 70/100\n",
            "209/209 [==============================] - 0s 1ms/step - loss: 0.3349 - accuracy: 0.8654\n",
            "Epoch 71/100\n",
            "209/209 [==============================] - 0s 1ms/step - loss: 0.3352 - accuracy: 0.8660\n",
            "Epoch 72/100\n",
            "209/209 [==============================] - 0s 1ms/step - loss: 0.3349 - accuracy: 0.8654\n",
            "Epoch 73/100\n",
            "209/209 [==============================] - 0s 994us/step - loss: 0.3347 - accuracy: 0.8657\n",
            "Epoch 74/100\n",
            "209/209 [==============================] - 0s 1ms/step - loss: 0.3347 - accuracy: 0.8660\n",
            "Epoch 75/100\n",
            "209/209 [==============================] - 0s 976us/step - loss: 0.3344 - accuracy: 0.8662\n",
            "Epoch 76/100\n",
            "209/209 [==============================] - 0s 945us/step - loss: 0.3349 - accuracy: 0.8653\n",
            "Epoch 77/100\n",
            "209/209 [==============================] - 0s 1ms/step - loss: 0.3345 - accuracy: 0.8660\n",
            "Epoch 78/100\n",
            "209/209 [==============================] - 0s 985us/step - loss: 0.3341 - accuracy: 0.8662\n",
            "Epoch 79/100\n",
            "209/209 [==============================] - 0s 967us/step - loss: 0.3339 - accuracy: 0.8656\n",
            "Epoch 80/100\n",
            "209/209 [==============================] - 0s 961us/step - loss: 0.3342 - accuracy: 0.8665\n",
            "Epoch 81/100\n",
            "209/209 [==============================] - 0s 2ms/step - loss: 0.3339 - accuracy: 0.8665\n",
            "Epoch 82/100\n",
            "209/209 [==============================] - 1s 3ms/step - loss: 0.3334 - accuracy: 0.8660\n",
            "Epoch 83/100\n",
            "209/209 [==============================] - 0s 1ms/step - loss: 0.3339 - accuracy: 0.8680\n",
            "Epoch 84/100\n",
            "209/209 [==============================] - 0s 948us/step - loss: 0.3339 - accuracy: 0.8644\n",
            "Epoch 85/100\n",
            "209/209 [==============================] - 0s 2ms/step - loss: 0.3338 - accuracy: 0.8665\n",
            "Epoch 86/100\n",
            "209/209 [==============================] - 1s 3ms/step - loss: 0.3331 - accuracy: 0.8660\n",
            "Epoch 87/100\n",
            "209/209 [==============================] - 0s 1ms/step - loss: 0.3331 - accuracy: 0.8659\n",
            "Epoch 88/100\n",
            "209/209 [==============================] - 0s 1ms/step - loss: 0.3330 - accuracy: 0.8671\n",
            "Epoch 89/100\n",
            "209/209 [==============================] - 0s 2ms/step - loss: 0.3330 - accuracy: 0.8666\n",
            "Epoch 90/100\n",
            "209/209 [==============================] - 1s 3ms/step - loss: 0.3331 - accuracy: 0.8669\n",
            "Epoch 91/100\n",
            "209/209 [==============================] - 0s 1ms/step - loss: 0.3326 - accuracy: 0.8677\n",
            "Epoch 92/100\n",
            "209/209 [==============================] - 0s 1ms/step - loss: 0.3329 - accuracy: 0.8665\n",
            "Epoch 93/100\n",
            "209/209 [==============================] - 0s 965us/step - loss: 0.3328 - accuracy: 0.8666\n",
            "Epoch 94/100\n",
            "209/209 [==============================] - 0s 1ms/step - loss: 0.3323 - accuracy: 0.8674\n",
            "Epoch 95/100\n",
            "209/209 [==============================] - 0s 993us/step - loss: 0.3328 - accuracy: 0.8669\n",
            "Epoch 96/100\n",
            "209/209 [==============================] - 0s 1ms/step - loss: 0.3323 - accuracy: 0.8665\n",
            "Epoch 97/100\n",
            "209/209 [==============================] - 0s 955us/step - loss: 0.3323 - accuracy: 0.8657\n",
            "Epoch 98/100\n",
            "209/209 [==============================] - 0s 1ms/step - loss: 0.3324 - accuracy: 0.8660\n",
            "Epoch 99/100\n",
            "209/209 [==============================] - 0s 991us/step - loss: 0.3319 - accuracy: 0.8678\n",
            "Epoch 100/100\n",
            "209/209 [==============================] - 0s 999us/step - loss: 0.3326 - accuracy: 0.8666\n"
          ]
        },
        {
          "output_type": "execute_result",
          "data": {
            "text/plain": [
              "<keras.callbacks.History at 0x7fab5cd60d50>"
            ]
          },
          "metadata": {},
          "execution_count": 21
        }
      ]
    },
    {
      "cell_type": "code",
      "source": [
        "print(ann.predict(sc.transform([[1, 0, 0, 600, 1, 40, 3, 60000, 2, 1, 1, 50000]])) > 0.5)"
      ],
      "metadata": {
        "colab": {
          "base_uri": "https://localhost:8080/"
        },
        "id": "XRvlM4tnGvWU",
        "outputId": "07e9c1ff-5306-450a-ad96-192b34b9fb19"
      },
      "execution_count": 23,
      "outputs": [
        {
          "output_type": "stream",
          "name": "stdout",
          "text": [
            "[[False]]\n"
          ]
        }
      ]
    },
    {
      "cell_type": "code",
      "source": [
        "y_pred = ann.predict(x_test)\n",
        "y_pred = (y_pred > 0.5)\n",
        "print(np.concatenate((y_pred.reshape(len(y_pred), 1), \n",
        "                      y_test.reshape(len(y_test), 1)), 1))"
      ],
      "metadata": {
        "colab": {
          "base_uri": "https://localhost:8080/"
        },
        "id": "HIflVFp4HlZu",
        "outputId": "684d38ca-ab65-435d-ba8e-81fe80e619d1"
      },
      "execution_count": 24,
      "outputs": [
        {
          "output_type": "stream",
          "name": "stdout",
          "text": [
            "[[0 0]\n",
            " [0 1]\n",
            " [0 0]\n",
            " ...\n",
            " [1 1]\n",
            " [0 0]\n",
            " [0 0]]\n"
          ]
        }
      ]
    },
    {
      "cell_type": "code",
      "source": [
        "from sklearn.metrics import accuracy_score, confusion_matrix\n",
        "cm = confusion_matrix(y_test, y_pred)\n",
        "print(cm)\n",
        "accuracy_score(y_test, y_pred)"
      ],
      "metadata": {
        "colab": {
          "base_uri": "https://localhost:8080/"
        },
        "id": "rgxZnvjaIJq3",
        "outputId": "3516928b-4edd-4285-f50e-5ca9dbcce579"
      },
      "execution_count": 26,
      "outputs": [
        {
          "output_type": "stream",
          "name": "stdout",
          "text": [
            "[[2542  104]\n",
            " [ 360  328]]\n"
          ]
        },
        {
          "output_type": "execute_result",
          "data": {
            "text/plain": [
              "0.8608278344331134"
            ]
          },
          "metadata": {},
          "execution_count": 26
        }
      ]
    },
    {
      "cell_type": "code",
      "source": [],
      "metadata": {
        "id": "uTSFyCVLIfOi"
      },
      "execution_count": null,
      "outputs": []
    }
  ]
}